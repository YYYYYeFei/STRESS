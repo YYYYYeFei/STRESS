{
 "cells": [
  {
   "cell_type": "code",
   "execution_count": null,
   "id": "d569b520-5be4-48ec-b2de-8a620897e9b1",
   "metadata": {},
   "outputs": [],
   "source": [
    "# Step 1: Convert raw .h5 files into h5ad with label and spatial info\n",
    "# Step 2: Convert h5ad to HR / LR / DROP numpy matrices\n",
    "# Step 3: Convert model outputs back to h5ad format\n",
    "# Author: Xiuyuan Wang\n",
    "# Date: 2025-06\n",
    "\n",
    "import os\n",
    "import sys\n",
    "import numpy as np\n",
    "import pandas as pd\n",
    "import scanpy as sc\n",
    "import warnings\n",
    "from pathlib import Path\n",
    "from sklearn.mixture import GaussianMixture\n",
    "\n",
    "warnings.filterwarnings('ignore', category=FutureWarning, module='numba')\n",
    "warnings.filterwarnings(\"ignore\", message=\"Variable names are not unique\")\n",
    "warnings.filterwarnings(\"ignore\", message=\"Setting element .* of view\", category=UserWarning)\n",
    "warnings.filterwarnings(\"ignore\", category=DeprecationWarning, module=\"umap\")\n",
    "warnings.filterwarnings(\"ignore\", message=\"Variable names are not unique\")"
   ]
  }
 ],
 "metadata": {
  "kernelspec": {
   "display_name": "Python 3 (ipykernel)",
   "language": "python",
   "name": "python3"
  },
  "language_info": {
   "codemirror_mode": {
    "name": "ipython",
    "version": 3
   },
   "file_extension": ".py",
   "mimetype": "text/x-python",
   "name": "python",
   "nbconvert_exporter": "python",
   "pygments_lexer": "ipython3",
   "version": "3.8.0"
  }
 },
 "nbformat": 4,
 "nbformat_minor": 5
}
